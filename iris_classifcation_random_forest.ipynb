{
 "cells": [
  {
   "cell_type": "markdown",
   "id": "c81ffbaa",
   "metadata": {},
   "source": [
    "First, we load in the data and split it for ML usage.\n",
    "\n",
    "Iris data was retrieved from the following source:\n",
    "Dua, D. and Graff, C. (2019). UCI Machine Learning Repository https://archive.ics.uci.edu/ml/datasets/iris. Irvine, CA: University of California, School of Information and Computer Science."
   ]
  },
  {
   "cell_type": "code",
   "execution_count": 4,
   "id": "01782083",
   "metadata": {},
   "outputs": [
    {
     "name": "stdout",
     "output_type": "stream",
     "text": [
      "   slength  swidth  plength  pwidth\n",
      "0      5.1     3.5      1.4     0.2\n",
      "1      4.9     3.0      1.4     0.2\n",
      "2      4.7     3.2      1.3     0.2\n",
      "3      4.6     3.1      1.5     0.2\n",
      "4      5.0     3.6      1.4     0.2\n",
      "0    Iris-setosa\n",
      "1    Iris-setosa\n",
      "2    Iris-setosa\n",
      "3    Iris-setosa\n",
      "4    Iris-setosa\n",
      "Name: name, dtype: object\n"
     ]
    }
   ],
   "source": [
    "import pandas as pd\n",
    "\n",
    "iris = pd.read_csv('iris.csv')\n",
    "\n",
    "from sklearn.model_selection import train_test_split\n",
    "\n",
    "X = iris.drop(columns=['name']).copy(deep=True)\n",
    "print(X.head())\n",
    "\n",
    "y = iris['name'].copy(deep=True)\n",
    "print(y.head())\n",
    "\n",
    "x_train, x_test, y_train, y_test = train_test_split(X, y, test_size = 0.25, random_state = 0)\n"
   ]
  },
  {
   "cell_type": "markdown",
   "id": "11510e64",
   "metadata": {},
   "source": [
    "Next, we load and implement the classifier."
   ]
  },
  {
   "cell_type": "code",
   "execution_count": 5,
   "id": "11227541",
   "metadata": {},
   "outputs": [
    {
     "data": {
      "text/plain": [
       "RandomForestClassifier(max_depth=4, random_state=0)"
      ]
     },
     "execution_count": 5,
     "metadata": {},
     "output_type": "execute_result"
    }
   ],
   "source": [
    "from sklearn.ensemble import RandomForestClassifier\n",
    "    \n",
    "clf = RandomForestClassifier(max_depth=4, random_state=0)\n",
    "clf.fit(x_train, y_train)"
   ]
  },
  {
   "cell_type": "markdown",
   "id": "a77596fb",
   "metadata": {},
   "source": [
    "Finally, we can check the efficacy of our classifcation."
   ]
  },
  {
   "cell_type": "code",
   "execution_count": 7,
   "id": "3b156370",
   "metadata": {},
   "outputs": [
    {
     "name": "stdout",
     "output_type": "stream",
     "text": [
      "                 precision    recall  f1-score   support\n",
      "\n",
      " Iris-virginica       1.00      1.00      1.00        13\n",
      "    Iris-setosa       1.00      0.94      0.97        16\n",
      "Iris-versicolor       0.90      1.00      0.95         9\n",
      "\n",
      "       accuracy                           0.97        38\n",
      "      macro avg       0.97      0.98      0.97        38\n",
      "   weighted avg       0.98      0.97      0.97        38\n",
      "\n"
     ]
    }
   ],
   "source": [
    "from sklearn.metrics import classification_report\n",
    "print(classification_report(y_true=y_test, y_pred=clf.predict(x_test), target_names=['Iris-virginica', 'Iris-setosa', 'Iris-versicolor']))"
   ]
  },
  {
   "cell_type": "code",
   "execution_count": null,
   "id": "bf35c950",
   "metadata": {},
   "outputs": [],
   "source": []
  }
 ],
 "metadata": {
  "kernelspec": {
   "display_name": "Python 3",
   "language": "python",
   "name": "python3"
  },
  "language_info": {
   "codemirror_mode": {
    "name": "ipython",
    "version": 3
   },
   "file_extension": ".py",
   "mimetype": "text/x-python",
   "name": "python",
   "nbconvert_exporter": "python",
   "pygments_lexer": "ipython3",
   "version": "3.8.8"
  }
 },
 "nbformat": 4,
 "nbformat_minor": 5
}
